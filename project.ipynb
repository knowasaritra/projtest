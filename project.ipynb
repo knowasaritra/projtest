{
  "nbformat": 4,
  "nbformat_minor": 0,
  "metadata": {
    "colab": {
      "name": "project.ipynb",
      "provenance": [],
      "collapsed_sections": [],
      "authorship_tag": "ABX9TyOM27+XPO9qqnu9WDKi9ccT",
      "include_colab_link": true
    },
    "kernelspec": {
      "name": "python3",
      "display_name": "Python 3"
    }
  },
  "cells": [
    {
      "cell_type": "markdown",
      "metadata": {
        "id": "view-in-github",
        "colab_type": "text"
      },
      "source": [
        "<a href=\"https://colab.research.google.com/github/knowasaritra/calculator/blob/master/project.ipynb\" target=\"_parent\"><img src=\"https://colab.research.google.com/assets/colab-badge.svg\" alt=\"Open In Colab\"/></a>"
      ]
    },
    {
      "cell_type": "code",
      "metadata": {
        "id": "MR528_QmzY06",
        "colab_type": "code",
        "outputId": "85cc995d-3992-401f-dda5-c915a679264d",
        "colab": {
          "base_uri": "https://localhost:8080/",
          "height": 275
        }
      },
      "source": [
        "from gensim.models import Word2Vec\n",
        "import nltk\n",
        "from nltk.corpus import stopwords\n",
        "#nltk.download('punkt')\n",
        "nltk.download('stopwords')\n",
        "import numpy as np\n",
        "import pandas as pd\n",
        "import re\n",
        "data=pd.read_csv(\"/content/amazon_cells_labelled.csv\")\n",
        "data\n",
        "x=pd.get_dummies(data,columns=[\"sentiment\"])\n",
        "sentences=''' '''\n",
        "for i in range(0,1000):\n",
        "  sentences=sentences + (x[\"reviews\"].loc[i])\n",
        "sentences=sentences.lower()\n",
        "sentences=re.sub(r'\\W+',' ',sentences)\n",
        "sentences=re.sub(r'\\d+',' ',sentences)\n",
        "stopwords=stopwords.words('english')\n",
        "sentences=nltk.word_tokenize(sentences)\n",
        "new_words=[]\n",
        "for i in range(0,len(sentences)):\n",
        "  if sentences[i] not in stopwords:\n",
        "    new_words.append(sentences[i])\n",
        "#print(new_words)\n",
        "model=Word2Vec([new_words],min_count=1,window=4,sg=0,size=120)\n",
        "#print(model)\n",
        "similar=model.wv.most_similar('good')\n",
        "similar\n",
        "\n",
        "\n"
      ],
      "execution_count": 40,
      "outputs": [
        {
          "output_type": "stream",
          "text": [
            "[nltk_data] Downloading package stopwords to /root/nltk_data...\n",
            "[nltk_data]   Package stopwords is already up-to-date!\n"
          ],
          "name": "stdout"
        },
        {
          "output_type": "stream",
          "text": [
            "/usr/local/lib/python3.6/dist-packages/gensim/matutils.py:737: FutureWarning: Conversion of the second argument of issubdtype from `int` to `np.signedinteger` is deprecated. In future, it will be treated as `np.int64 == np.dtype(int).type`.\n",
            "  if np.issubdtype(vec.dtype, np.int):\n"
          ],
          "name": "stderr"
        },
        {
          "output_type": "execute_result",
          "data": {
            "text/plain": [
              "[('phone', 0.43839240074157715),\n",
              " ('worked', 0.3924700617790222),\n",
              " ('excellent', 0.38389161229133606),\n",
              " ('poor', 0.3290073573589325),\n",
              " ('get', 0.3145826458930969),\n",
              " ('enough', 0.311539888381958),\n",
              " ('use', 0.30794012546539307),\n",
              " ('lights', 0.28781235218048096),\n",
              " ('screen', 0.2835864722728729),\n",
              " ('camera', 0.28184595704078674)]"
            ]
          },
          "metadata": {
            "tags": []
          },
          "execution_count": 40
        }
      ]
    }
  ]
}